{
 "cells": [
  {
   "cell_type": "markdown",
   "metadata": {},
   "source": [
    "# Project 2:  Lucid Titanic Sleuthing"
   ]
  },
  {
   "cell_type": "markdown",
   "metadata": {},
   "source": [
    "## Part 1: Developing an understanding of the data"
   ]
  },
  {
   "cell_type": "markdown",
   "metadata": {},
   "source": [
    "#### Based on the description of the data you read in the readme describe in your own words this data."
   ]
  },
  {
   "cell_type": "markdown",
   "metadata": {
    "collapsed": true
   },
   "source": [
    "The data in the CSV file contains a subset of the passenger manifest for the vessel RMS Titanic. This data contains details regarding the accomodation class, whether the passenger survived or not, passenger name, gender, age, general family details (siblings/parents on board), the purchased ticket number and fare paid, original port of embarkation, lifeboat number, body number (if deceased), and what appears to be the passengers' final destination. This data is not complete, as it was expected that records keeping was not the highest of priorities during the sinking of the RMS Titanic. Data will have to be imputed based on other passenger attributes including (but not limited to) name, age, general family details, and class of fare/ticket number. Taking the imputed data into consideration, we should then be able to create a model that should be able to predict whether other passengers (not identified on this manifest)  survived or not based on the passenger details."
   ]
  },
  {
   "cell_type": "markdown",
   "metadata": {},
   "source": [
    "#### Based on our conceptual understanding of the columns in this data set.  What are the reasonable range of the values for the Sex, Age, SibSp, Parch columns."
   ]
  },
  {
   "cell_type": "markdown",
   "metadata": {
    "collapsed": true
   },
   "source": []
  },
  {
   "cell_type": "markdown",
   "metadata": {},
   "source": [
    "### Open the data in sublime text is there anything that jumps out to you?"
   ]
  },
  {
   "cell_type": "markdown",
   "metadata": {
    "collapsed": true
   },
   "source": [
    "Passengers in 3rd class appear to have less details available and also appear at first glance to have a higher casualty rate compared to 1st and 2nd class."
   ]
  },
  {
   "cell_type": "markdown",
   "metadata": {},
   "source": [
    "## Part 2: reading the data in"
   ]
  },
  {
   "cell_type": "markdown",
   "metadata": {},
   "source": [
    "#### Now read the data into a Pandas DataFrame"
   ]
  },
  {
   "cell_type": "code",
   "execution_count": 314,
   "metadata": {
    "collapsed": false
   },
   "outputs": [],
   "source": [
    "%matplotlib inline\n",
    "import pandas as pd\n",
    "import numpy as np\n",
    "\n",
    "# Import file into pandas dataframe\n",
    "rmst = pd.read_csv('./assets/titanic.csv')"
   ]
  },
  {
   "cell_type": "markdown",
   "metadata": {},
   "source": [
    "#### Check that the age column doesn't have any unreasonable values "
   ]
  },
  {
   "cell_type": "code",
   "execution_count": 315,
   "metadata": {
    "collapsed": false
   },
   "outputs": [
    {
     "data": {
      "text/plain": [
       "count    1046.000000\n",
       "mean       29.881138\n",
       "std        14.413493\n",
       "min         0.170000\n",
       "25%              NaN\n",
       "50%              NaN\n",
       "75%              NaN\n",
       "max        80.000000\n",
       "Name: age, dtype: float64"
      ]
     },
     "execution_count": 315,
     "metadata": {},
     "output_type": "execute_result"
    }
   ],
   "source": [
    "# A pandas description method of the age column will reveal information\n",
    "# relevant to this section. Though the quartiles may not be computable \n",
    "# due to the NaN's still existing at this point of the process, we can \n",
    "# see whether the values are in a reasonable range (ie: not more than \n",
    "# an unreasonable age nor a negative or zero value) and whether there \n",
    "# are any data types that are not appropriate for this column. Should \n",
    "# there be an inappropriate data type in this column, the dtype would \n",
    "# be expected to be returned as an object.\n",
    "\n",
    "rmst['age'].describe()"
   ]
  },
  {
   "cell_type": "markdown",
   "metadata": {},
   "source": [
    "#### Check for missing values.  How do you know that a value is missing?"
   ]
  },
  {
   "cell_type": "markdown",
   "metadata": {
    "collapsed": false
   },
   "source": [
    "Missing values are represented as a 'NaN' in the data. "
   ]
  },
  {
   "cell_type": "markdown",
   "metadata": {},
   "source": [
    "#### Does it makes sense to guess at the value?"
   ]
  },
  {
   "cell_type": "markdown",
   "metadata": {
    "collapsed": true
   },
   "source": [
    "Data imputation makes sense in the way that guessing missing values (based on statistical measurements performed on existing data) can help provide a more complete data set capable of providing more accurate estimates. "
   ]
  },
  {
   "cell_type": "markdown",
   "metadata": {},
   "source": [
    "## Part 3: data imputation"
   ]
  },
  {
   "cell_type": "markdown",
   "metadata": {},
   "source": [
    "#### Well let’s say that it does... You likely noticed that Age has some missing values. How many are missing?"
   ]
  },
  {
   "cell_type": "code",
   "execution_count": 321,
   "metadata": {
    "collapsed": false
   },
   "outputs": [
    {
     "name": "stdout",
     "output_type": "stream",
     "text": [
      "There are 263 missing values for age in the Titanic dataset.\n"
     ]
    }
   ],
   "source": [
    "# Count missing values by counting the number of null values in \n",
    "# the age column\n",
    "print \"There are \" + str(rmst['age'].isnull().sum()) + \" missing values for age in the Titanic dataset.\""
   ]
  },
  {
   "cell_type": "markdown",
   "metadata": {},
   "source": [
    "#### For the Age of the passengers ... how would you guess at the missing values using the other data present in the CSV."
   ]
  },
  {
   "cell_type": "markdown",
   "metadata": {
    "collapsed": true
   },
   "source": [
    "I would factor in the following to guess at the missing age values:\n",
    "\n",
    "1. Title (ie: Presence of \"Master\" in name indicates an infant or age of less than 1)\n",
    "2. Average age vs. gender and value of fare paid\n",
    "3. Average age vs. gender and Port of Embarkation\n",
    "4. If sibsp and parch values are non-zero, check if missing age is of spouse or child\n",
    "   This would be done via checking if associated children exist, if not then the average\n",
    "   age of the spouse according to gender\n",
    "   If there is a missing value for a family but both parents are accounted for, then \n",
    "   check the average age of children matching the gender (unless condition #1 exists,\n",
    "   in which case the average of all infants would be used)"
   ]
  },
  {
   "cell_type": "markdown",
   "metadata": {},
   "source": [
    "## Part 4: Group Statistics"
   ]
  },
  {
   "cell_type": "markdown",
   "metadata": {
    "collapsed": true
   },
   "source": [
    "#### Are there any groups that were especially adversely affected in the Titanic wreck? (justify your response numerically)"
   ]
  },
  {
   "cell_type": "code",
   "execution_count": 317,
   "metadata": {
    "collapsed": false
   },
   "outputs": [
    {
     "data": {
      "text/html": [
       "<div>\n",
       "<table border=\"1\" class=\"dataframe\">\n",
       "  <thead>\n",
       "    <tr style=\"text-align: right;\">\n",
       "      <th></th>\n",
       "      <th></th>\n",
       "      <th></th>\n",
       "      <th>Deceased</th>\n",
       "      <th>Survived</th>\n",
       "      <th>All</th>\n",
       "      <th>SurvivalRate</th>\n",
       "    </tr>\n",
       "    <tr>\n",
       "      <th>pclass</th>\n",
       "      <th>sex</th>\n",
       "      <th>embarked</th>\n",
       "      <th></th>\n",
       "      <th></th>\n",
       "      <th></th>\n",
       "      <th></th>\n",
       "    </tr>\n",
       "  </thead>\n",
       "  <tbody>\n",
       "    <tr>\n",
       "      <th rowspan=\"6\" valign=\"top\">1</th>\n",
       "      <th rowspan=\"3\" valign=\"top\">female</th>\n",
       "      <th>C</th>\n",
       "      <td>2.0</td>\n",
       "      <td>69.0</td>\n",
       "      <td>71.0</td>\n",
       "      <td>0.971831</td>\n",
       "    </tr>\n",
       "    <tr>\n",
       "      <th>Q</th>\n",
       "      <td>NaN</td>\n",
       "      <td>2.0</td>\n",
       "      <td>2.0</td>\n",
       "      <td>1.000000</td>\n",
       "    </tr>\n",
       "    <tr>\n",
       "      <th>S</th>\n",
       "      <td>3.0</td>\n",
       "      <td>66.0</td>\n",
       "      <td>69.0</td>\n",
       "      <td>0.956522</td>\n",
       "    </tr>\n",
       "    <tr>\n",
       "      <th rowspan=\"3\" valign=\"top\">male</th>\n",
       "      <th>C</th>\n",
       "      <td>42.0</td>\n",
       "      <td>28.0</td>\n",
       "      <td>70.0</td>\n",
       "      <td>0.400000</td>\n",
       "    </tr>\n",
       "    <tr>\n",
       "      <th>Q</th>\n",
       "      <td>1.0</td>\n",
       "      <td>NaN</td>\n",
       "      <td>1.0</td>\n",
       "      <td>NaN</td>\n",
       "    </tr>\n",
       "    <tr>\n",
       "      <th>S</th>\n",
       "      <td>75.0</td>\n",
       "      <td>33.0</td>\n",
       "      <td>108.0</td>\n",
       "      <td>0.305556</td>\n",
       "    </tr>\n",
       "    <tr>\n",
       "      <th rowspan=\"6\" valign=\"top\">2</th>\n",
       "      <th rowspan=\"3\" valign=\"top\">female</th>\n",
       "      <th>C</th>\n",
       "      <td>NaN</td>\n",
       "      <td>11.0</td>\n",
       "      <td>11.0</td>\n",
       "      <td>1.000000</td>\n",
       "    </tr>\n",
       "    <tr>\n",
       "      <th>Q</th>\n",
       "      <td>NaN</td>\n",
       "      <td>2.0</td>\n",
       "      <td>2.0</td>\n",
       "      <td>1.000000</td>\n",
       "    </tr>\n",
       "    <tr>\n",
       "      <th>S</th>\n",
       "      <td>12.0</td>\n",
       "      <td>81.0</td>\n",
       "      <td>93.0</td>\n",
       "      <td>0.870968</td>\n",
       "    </tr>\n",
       "    <tr>\n",
       "      <th rowspan=\"3\" valign=\"top\">male</th>\n",
       "      <th>C</th>\n",
       "      <td>12.0</td>\n",
       "      <td>5.0</td>\n",
       "      <td>17.0</td>\n",
       "      <td>0.294118</td>\n",
       "    </tr>\n",
       "    <tr>\n",
       "      <th>Q</th>\n",
       "      <td>5.0</td>\n",
       "      <td>NaN</td>\n",
       "      <td>5.0</td>\n",
       "      <td>NaN</td>\n",
       "    </tr>\n",
       "    <tr>\n",
       "      <th>S</th>\n",
       "      <td>129.0</td>\n",
       "      <td>20.0</td>\n",
       "      <td>149.0</td>\n",
       "      <td>0.134228</td>\n",
       "    </tr>\n",
       "    <tr>\n",
       "      <th rowspan=\"6\" valign=\"top\">3</th>\n",
       "      <th rowspan=\"3\" valign=\"top\">female</th>\n",
       "      <th>C</th>\n",
       "      <td>9.0</td>\n",
       "      <td>22.0</td>\n",
       "      <td>31.0</td>\n",
       "      <td>0.709677</td>\n",
       "    </tr>\n",
       "    <tr>\n",
       "      <th>Q</th>\n",
       "      <td>23.0</td>\n",
       "      <td>33.0</td>\n",
       "      <td>56.0</td>\n",
       "      <td>0.589286</td>\n",
       "    </tr>\n",
       "    <tr>\n",
       "      <th>S</th>\n",
       "      <td>78.0</td>\n",
       "      <td>51.0</td>\n",
       "      <td>129.0</td>\n",
       "      <td>0.395349</td>\n",
       "    </tr>\n",
       "    <tr>\n",
       "      <th rowspan=\"3\" valign=\"top\">male</th>\n",
       "      <th>C</th>\n",
       "      <td>55.0</td>\n",
       "      <td>15.0</td>\n",
       "      <td>70.0</td>\n",
       "      <td>0.214286</td>\n",
       "    </tr>\n",
       "    <tr>\n",
       "      <th>Q</th>\n",
       "      <td>50.0</td>\n",
       "      <td>7.0</td>\n",
       "      <td>57.0</td>\n",
       "      <td>0.122807</td>\n",
       "    </tr>\n",
       "    <tr>\n",
       "      <th>S</th>\n",
       "      <td>313.0</td>\n",
       "      <td>53.0</td>\n",
       "      <td>366.0</td>\n",
       "      <td>0.144809</td>\n",
       "    </tr>\n",
       "    <tr>\n",
       "      <th>All</th>\n",
       "      <th></th>\n",
       "      <th></th>\n",
       "      <td>809.0</td>\n",
       "      <td>498.0</td>\n",
       "      <td>1307.0</td>\n",
       "      <td>0.381025</td>\n",
       "    </tr>\n",
       "  </tbody>\n",
       "</table>\n",
       "</div>"
      ],
      "text/plain": [
       "                        Deceased  Survived     All  SurvivalRate\n",
       "pclass sex    embarked                                          \n",
       "1      female C              2.0      69.0    71.0      0.971831\n",
       "              Q              NaN       2.0     2.0      1.000000\n",
       "              S              3.0      66.0    69.0      0.956522\n",
       "       male   C             42.0      28.0    70.0      0.400000\n",
       "              Q              1.0       NaN     1.0           NaN\n",
       "              S             75.0      33.0   108.0      0.305556\n",
       "2      female C              NaN      11.0    11.0      1.000000\n",
       "              Q              NaN       2.0     2.0      1.000000\n",
       "              S             12.0      81.0    93.0      0.870968\n",
       "       male   C             12.0       5.0    17.0      0.294118\n",
       "              Q              5.0       NaN     5.0           NaN\n",
       "              S            129.0      20.0   149.0      0.134228\n",
       "3      female C              9.0      22.0    31.0      0.709677\n",
       "              Q             23.0      33.0    56.0      0.589286\n",
       "              S             78.0      51.0   129.0      0.395349\n",
       "       male   C             55.0      15.0    70.0      0.214286\n",
       "              Q             50.0       7.0    57.0      0.122807\n",
       "              S            313.0      53.0   366.0      0.144809\n",
       "All                        809.0     498.0  1307.0      0.381025"
      ]
     },
     "execution_count": 317,
     "metadata": {},
     "output_type": "execute_result"
    }
   ],
   "source": [
    "# Pivot Tables will be used to categorize and reorganize the data \n",
    "# in a way that is relevant to the values I am looking for in \n",
    "# determining responses.\n",
    "\n",
    "# Create a pivot table for all ticketed passengers, organize \n",
    "# according to passenger class, sex, and port of embarkation and \n",
    "# categorize by whether the passenger survived or not. Add totals \n",
    "# across both axis by use of the margins flag in the pandas \n",
    "# pivot_table method. \n",
    "rmst_gctable = rmst.pivot_table('ticket', index=['pclass','sex','embarked'],columns='survived',aggfunc=len,margins=True)\n",
    "\n",
    "# Create a column to calculate the survival rate for each row\n",
    "rmst_gctable['survivalrate']=rmst_gctable[1]/(rmst_gctable['All'])\n",
    "\n",
    "# Rename columns for ease of reading/understanding tables and graphs\n",
    "rmst_gctable.columns=['Deceased','Survived','All','SurvivalRate']\n",
    "\n",
    "# Print the pivot table\n",
    "rmst_gctable"
   ]
  },
  {
   "cell_type": "code",
   "execution_count": 318,
   "metadata": {
    "collapsed": false
   },
   "outputs": [
    {
     "data": {
      "text/plain": [
       "<matplotlib.axes._subplots.AxesSubplot at 0x1230fc7d0>"
      ]
     },
     "execution_count": 318,
     "metadata": {},
     "output_type": "execute_result"
    },
    {
     "data": {
      "image/png": "[encoded data removed]",
      "text/plain": [
       "<matplotlib.figure.Figure at 0x1230fce90>"
      ]
     },
     "metadata": {},
     "output_type": "display_data"
    }
   ],
   "source": [
    "# Plot the data excluding the summary totals according to row \n",
    "# and column as generated by use of the margins flag when \n",
    "# creating the pivot table.\n",
    "\n",
    "rmst_gctable.iloc[:-1,:2].plot(kind='bar',figsize=(10,5),stacked=True)"
   ]
  },
  {
   "cell_type": "markdown",
   "metadata": {},
   "source": [
    "Based on the information above, it appears men were generally less likely to have survived the wreck. Within the male passenger population, chances of survival were higher for class 1 passengers. "
   ]
  },
  {
   "cell_type": "markdown",
   "metadata": {},
   "source": [
    "#### Are there any groups that outperformed the survival of the latter group? (justify your response numerically)\n"
   ]
  },
  {
   "cell_type": "markdown",
   "metadata": {
    "collapsed": true
   },
   "source": [
    "Passengers that embarked from Port of Embarkation C (Cherbourg) seem to have had a slightly higher chance of survival compared to passengers who embarked from the other two possible Ports of Embarkation within each respective passenger class. \n",
    "\n",
    "This significance of the survival rate based on Port of Embarkation may decrease according to passenger class as the distribution of the population within the passenger class becomes skewed towards passengers having embarked from Port of Embarkation S (Southhampton)."
   ]
  },
  {
   "cell_type": "markdown",
   "metadata": {
    "collapsed": true
   },
   "source": [
    "## Part 5:  Comparative Statistics:  Lusitania"
   ]
  },
  {
   "cell_type": "markdown",
   "metadata": {
    "collapsed": true
   },
   "source": [
    "#### Are there any groups that were especially adversely affected in the Lusitania wreck? (justify your response numerically)"
   ]
  },
  {
   "cell_type": "markdown",
   "metadata": {},
   "source": [
    "Based on the figures below, there does not appear to be any particular group that was especially likely to have been adversely affected though the Male Engineering Crew and Male Third Class passengers seem to have been slightly more adversely affected than other groups in this wreck. The average difference between the survival rates of each specific class and gender is within approximately 1-2% of the overall average survival rate across all passengers. In the case of the Male Engineering Crew and Male Third Class passengers, this difference exceeds 3%."
   ]
  },
  {
   "cell_type": "code",
   "execution_count": 308,
   "metadata": {
    "collapsed": false
   },
   "outputs": [
    {
     "data": {
      "text/html": [
       "<div>\n",
       "<table border=\"1\" class=\"dataframe\">\n",
       "  <thead>\n",
       "    <tr style=\"text-align: right;\">\n",
       "      <th></th>\n",
       "      <th></th>\n",
       "      <th>Fate</th>\n",
       "      <th>Lost</th>\n",
       "      <th>Not on board</th>\n",
       "      <th>Saved</th>\n",
       "      <th>Saved (died from trauma)</th>\n",
       "      <th>All</th>\n",
       "      <th>Survival Rate</th>\n",
       "    </tr>\n",
       "    <tr>\n",
       "      <th>Sex</th>\n",
       "      <th>Passenger/Crew</th>\n",
       "      <th>Department/Class</th>\n",
       "      <th></th>\n",
       "      <th></th>\n",
       "      <th></th>\n",
       "      <th></th>\n",
       "      <th></th>\n",
       "      <th></th>\n",
       "    </tr>\n",
       "  </thead>\n",
       "  <tbody>\n",
       "    <tr>\n",
       "      <th rowspan=\"4\" valign=\"top\">Female</th>\n",
       "      <th>Crew</th>\n",
       "      <th>Victualling</th>\n",
       "      <td>16.0</td>\n",
       "      <td>NaN</td>\n",
       "      <td>9.0</td>\n",
       "      <td>NaN</td>\n",
       "      <td>25.0</td>\n",
       "      <td>0.360000</td>\n",
       "    </tr>\n",
       "    <tr>\n",
       "      <th rowspan=\"3\" valign=\"top\">Passenger</th>\n",
       "      <th>Saloon</th>\n",
       "      <td>56.0</td>\n",
       "      <td>1.0</td>\n",
       "      <td>34.0</td>\n",
       "      <td>NaN</td>\n",
       "      <td>91.0</td>\n",
       "      <td>0.373626</td>\n",
       "    </tr>\n",
       "    <tr>\n",
       "      <th>Second</th>\n",
       "      <td>185.0</td>\n",
       "      <td>NaN</td>\n",
       "      <td>108.0</td>\n",
       "      <td>1.0</td>\n",
       "      <td>294.0</td>\n",
       "      <td>0.367347</td>\n",
       "    </tr>\n",
       "    <tr>\n",
       "      <th>Third</th>\n",
       "      <td>68.0</td>\n",
       "      <td>NaN</td>\n",
       "      <td>40.0</td>\n",
       "      <td>NaN</td>\n",
       "      <td>108.0</td>\n",
       "      <td>0.370370</td>\n",
       "    </tr>\n",
       "    <tr>\n",
       "      <th rowspan=\"9\" valign=\"top\">Male</th>\n",
       "      <th rowspan=\"4\" valign=\"top\">Crew</th>\n",
       "      <th>Band</th>\n",
       "      <td>2.0</td>\n",
       "      <td>NaN</td>\n",
       "      <td>3.0</td>\n",
       "      <td>NaN</td>\n",
       "      <td>5.0</td>\n",
       "      <td>0.600000</td>\n",
       "    </tr>\n",
       "    <tr>\n",
       "      <th>Deck</th>\n",
       "      <td>32.0</td>\n",
       "      <td>NaN</td>\n",
       "      <td>37.0</td>\n",
       "      <td>NaN</td>\n",
       "      <td>69.0</td>\n",
       "      <td>0.536232</td>\n",
       "    </tr>\n",
       "    <tr>\n",
       "      <th>Engineering</th>\n",
       "      <td>201.0</td>\n",
       "      <td>NaN</td>\n",
       "      <td>112.0</td>\n",
       "      <td>NaN</td>\n",
       "      <td>313.0</td>\n",
       "      <td>0.357827</td>\n",
       "    </tr>\n",
       "    <tr>\n",
       "      <th>Victualling</th>\n",
       "      <td>151.0</td>\n",
       "      <td>NaN</td>\n",
       "      <td>129.0</td>\n",
       "      <td>1.0</td>\n",
       "      <td>281.0</td>\n",
       "      <td>0.459075</td>\n",
       "    </tr>\n",
       "    <tr>\n",
       "      <th rowspan=\"4\" valign=\"top\">Passenger</th>\n",
       "      <th>Saloon</th>\n",
       "      <td>121.0</td>\n",
       "      <td>NaN</td>\n",
       "      <td>78.0</td>\n",
       "      <td>1.0</td>\n",
       "      <td>200.0</td>\n",
       "      <td>0.390000</td>\n",
       "    </tr>\n",
       "    <tr>\n",
       "      <th>Second</th>\n",
       "      <td>187.0</td>\n",
       "      <td>NaN</td>\n",
       "      <td>119.0</td>\n",
       "      <td>1.0</td>\n",
       "      <td>307.0</td>\n",
       "      <td>0.387622</td>\n",
       "    </tr>\n",
       "    <tr>\n",
       "      <th>Third</th>\n",
       "      <td>168.0</td>\n",
       "      <td>NaN</td>\n",
       "      <td>94.0</td>\n",
       "      <td>NaN</td>\n",
       "      <td>262.0</td>\n",
       "      <td>0.358779</td>\n",
       "    </tr>\n",
       "    <tr>\n",
       "      <th>Third (Distressed British Seaman)</th>\n",
       "      <td>3.0</td>\n",
       "      <td>NaN</td>\n",
       "      <td>NaN</td>\n",
       "      <td>NaN</td>\n",
       "      <td>3.0</td>\n",
       "      <td>NaN</td>\n",
       "    </tr>\n",
       "    <tr>\n",
       "      <th>Stowaway</th>\n",
       "      <th>Stowaway</th>\n",
       "      <td>3.0</td>\n",
       "      <td>NaN</td>\n",
       "      <td>NaN</td>\n",
       "      <td>NaN</td>\n",
       "      <td>3.0</td>\n",
       "      <td>NaN</td>\n",
       "    </tr>\n",
       "    <tr>\n",
       "      <th>All</th>\n",
       "      <th></th>\n",
       "      <th></th>\n",
       "      <td>1193.0</td>\n",
       "      <td>1.0</td>\n",
       "      <td>763.0</td>\n",
       "      <td>4.0</td>\n",
       "      <td>1961.0</td>\n",
       "      <td>0.389087</td>\n",
       "    </tr>\n",
       "  </tbody>\n",
       "</table>\n",
       "</div>"
      ],
      "text/plain": [
       "Fate                                                       Lost  Not on board  \\\n",
       "Sex    Passenger/Crew Department/Class                                          \n",
       "Female Crew           Victualling                          16.0           NaN   \n",
       "       Passenger      Saloon                               56.0           1.0   \n",
       "                      Second                              185.0           NaN   \n",
       "                      Third                                68.0           NaN   \n",
       "Male   Crew           Band                                  2.0           NaN   \n",
       "                      Deck                                 32.0           NaN   \n",
       "                      Engineering                         201.0           NaN   \n",
       "                      Victualling                         151.0           NaN   \n",
       "       Passenger      Saloon                              121.0           NaN   \n",
       "                      Second                              187.0           NaN   \n",
       "                      Third                               168.0           NaN   \n",
       "                      Third (Distressed British Seaman)     3.0           NaN   \n",
       "       Stowaway       Stowaway                              3.0           NaN   \n",
       "All                                                      1193.0           1.0   \n",
       "\n",
       "Fate                                                     Saved  \\\n",
       "Sex    Passenger/Crew Department/Class                           \n",
       "Female Crew           Victualling                          9.0   \n",
       "       Passenger      Saloon                              34.0   \n",
       "                      Second                             108.0   \n",
       "                      Third                               40.0   \n",
       "Male   Crew           Band                                 3.0   \n",
       "                      Deck                                37.0   \n",
       "                      Engineering                        112.0   \n",
       "                      Victualling                        129.0   \n",
       "       Passenger      Saloon                              78.0   \n",
       "                      Second                             119.0   \n",
       "                      Third                               94.0   \n",
       "                      Third (Distressed British Seaman)    NaN   \n",
       "       Stowaway       Stowaway                             NaN   \n",
       "All                                                      763.0   \n",
       "\n",
       "Fate                                                     Saved (died from trauma)  \\\n",
       "Sex    Passenger/Crew Department/Class                                              \n",
       "Female Crew           Victualling                                             NaN   \n",
       "       Passenger      Saloon                                                  NaN   \n",
       "                      Second                                                  1.0   \n",
       "                      Third                                                   NaN   \n",
       "Male   Crew           Band                                                    NaN   \n",
       "                      Deck                                                    NaN   \n",
       "                      Engineering                                             NaN   \n",
       "                      Victualling                                             1.0   \n",
       "       Passenger      Saloon                                                  1.0   \n",
       "                      Second                                                  1.0   \n",
       "                      Third                                                   NaN   \n",
       "                      Third (Distressed British Seaman)                       NaN   \n",
       "       Stowaway       Stowaway                                                NaN   \n",
       "All                                                                           4.0   \n",
       "\n",
       "Fate                                                        All  Survival Rate  \n",
       "Sex    Passenger/Crew Department/Class                                          \n",
       "Female Crew           Victualling                          25.0       0.360000  \n",
       "       Passenger      Saloon                               91.0       0.373626  \n",
       "                      Second                              294.0       0.367347  \n",
       "                      Third                               108.0       0.370370  \n",
       "Male   Crew           Band                                  5.0       0.600000  \n",
       "                      Deck                                 69.0       0.536232  \n",
       "                      Engineering                         313.0       0.357827  \n",
       "                      Victualling                         281.0       0.459075  \n",
       "       Passenger      Saloon                              200.0       0.390000  \n",
       "                      Second                              307.0       0.387622  \n",
       "                      Third                               262.0       0.358779  \n",
       "                      Third (Distressed British Seaman)     3.0            NaN  \n",
       "       Stowaway       Stowaway                              3.0            NaN  \n",
       "All                                                      1961.0       0.389087  "
      ]
     },
     "execution_count": 308,
     "metadata": {},
     "output_type": "execute_result"
    }
   ],
   "source": [
    "# Import file into pandas dataframe\n",
    "rmsl = pd.read_csv('./assets/lusitania.csv')\n",
    "\n",
    "# Create a pivot table for all passengers with value, organize \n",
    "# according to sex, passenger/crew status, and passenger class \n",
    "# or crew designation and categorize by fate. Add totals across \n",
    "# both axis by use of the margins flag in the pandas pivot_table \n",
    "# method. \n",
    "rmsl_gctable = rmsl.pivot_table('Value', index=['Sex','Passenger/Crew','Department/Class'],columns='Fate',aggfunc=len,margins=True)\n",
    "\n",
    "# Create a column to calculate the survival rate for each row\n",
    "rmsl_gctable['Survival Rate']=rmsl_gctable['Saved']/(rmsl_gctable['All'])\n",
    "\n",
    "# Print the pivot table\n",
    "rmsl_gctable"
   ]
  },
  {
   "cell_type": "code",
   "execution_count": 322,
   "metadata": {
    "collapsed": false
   },
   "outputs": [
    {
     "data": {
      "text/html": [
       "<div>\n",
       "<table border=\"1\" class=\"dataframe\">\n",
       "  <thead>\n",
       "    <tr style=\"text-align: right;\">\n",
       "      <th>Fate</th>\n",
       "      <th>Lost</th>\n",
       "      <th>Not on board</th>\n",
       "      <th>Saved</th>\n",
       "      <th>Saved (died from trauma)</th>\n",
       "      <th>All</th>\n",
       "      <th>Survival Rate</th>\n",
       "    </tr>\n",
       "    <tr>\n",
       "      <th>Sex</th>\n",
       "      <th></th>\n",
       "      <th></th>\n",
       "      <th></th>\n",
       "      <th></th>\n",
       "      <th></th>\n",
       "      <th></th>\n",
       "    </tr>\n",
       "  </thead>\n",
       "  <tbody>\n",
       "    <tr>\n",
       "      <th>Female</th>\n",
       "      <td>325.0</td>\n",
       "      <td>1.0</td>\n",
       "      <td>191.0</td>\n",
       "      <td>1.0</td>\n",
       "      <td>518.0</td>\n",
       "      <td>0.368726</td>\n",
       "    </tr>\n",
       "    <tr>\n",
       "      <th>Male</th>\n",
       "      <td>868.0</td>\n",
       "      <td>NaN</td>\n",
       "      <td>572.0</td>\n",
       "      <td>3.0</td>\n",
       "      <td>1443.0</td>\n",
       "      <td>0.396396</td>\n",
       "    </tr>\n",
       "    <tr>\n",
       "      <th>All</th>\n",
       "      <td>1193.0</td>\n",
       "      <td>1.0</td>\n",
       "      <td>763.0</td>\n",
       "      <td>4.0</td>\n",
       "      <td>1961.0</td>\n",
       "      <td>0.389087</td>\n",
       "    </tr>\n",
       "  </tbody>\n",
       "</table>\n",
       "</div>"
      ],
      "text/plain": [
       "Fate      Lost  Not on board  Saved  Saved (died from trauma)     All  \\\n",
       "Sex                                                                     \n",
       "Female   325.0           1.0  191.0                       1.0   518.0   \n",
       "Male     868.0           NaN  572.0                       3.0  1443.0   \n",
       "All     1193.0           1.0  763.0                       4.0  1961.0   \n",
       "\n",
       "Fate    Survival Rate  \n",
       "Sex                    \n",
       "Female       0.368726  \n",
       "Male         0.396396  \n",
       "All          0.389087  "
      ]
     },
     "execution_count": 322,
     "metadata": {},
     "output_type": "execute_result"
    }
   ],
   "source": [
    "# Inspecting a more general dataset to see if there are any general \n",
    "# observable patterns\n",
    "rmsl_gtable = rmsl.pivot_table('Value', index=['Sex'],columns='Fate',aggfunc=len,margins=True)\n",
    "\n",
    "# Create a column to calculate the survival rate for each row\n",
    "rmsl_gtable['Survival Rate']=rmsl_gtable['Saved']/(rmsl_gtable['All'])\n",
    "\n",
    "# Print the pivot table\n",
    "rmsl_gtable"
   ]
  },
  {
   "cell_type": "code",
   "execution_count": 298,
   "metadata": {
    "collapsed": false
   },
   "outputs": [
    {
     "data": {
      "text/plain": [
       "<matplotlib.axes._subplots.AxesSubplot at 0x120824150>"
      ]
     },
     "execution_count": 298,
     "metadata": {},
     "output_type": "execute_result"
    },
    {
     "data": {
      "image/png": "[encoded data removed]",
      "text/plain": [
       "<matplotlib.figure.Figure at 0x1245bea10>"
      ]
     },
     "metadata": {},
     "output_type": "display_data"
    }
   ],
   "source": [
    "# Plot the data excluding the summary totals according to row and \n",
    "# column as generated by use of the margins flag when creating \n",
    "# the pivot table.\n",
    "rmsl_gctable.iloc[:-1,:4].plot(kind='bar',figsize=(10,5),stacked=True)"
   ]
  },
  {
   "cell_type": "markdown",
   "metadata": {
    "collapsed": true
   },
   "source": [
    "#### Are there any groups that outperformed the survival of the latter group? (justify your response numerically)\n",
    "\n"
   ]
  },
  {
   "cell_type": "markdown",
   "metadata": {
    "collapsed": true
   },
   "source": [
    "For the wreck of the Lusitania, there appears to have been an advantage of being a male on deck or serving in the Victualing department with those two groups having survived at a combined average of 0.4976535 (49.76%) against the overall survivial average of 0.389087 (38.91%). In comparison, the overall average rate of survivial for females was  0.367835 (36.7835%)."
   ]
  },
  {
   "cell_type": "markdown",
   "metadata": {},
   "source": [
    "#### What does the group-wise survival rate imply about circumstances during these two accidents?"
   ]
  },
  {
   "cell_type": "markdown",
   "metadata": {
    "collapsed": true
   },
   "source": [
    "One inference that may be possible from the data is that conditions during the wreck of the Lusitania may have been either accelerated or other situational variables present that prevented the evacuation of passengers according to the \"women and children to safety first\" model of disaster response. It may be possible that the wreck of the RMS Lusitania helped affirm the notion of the \"women and children to safety first\" model as this wreck occured roughly four years prior to the Titanic. However, one variable that also needs to be considered is both the violent nature of the wreck of the Lusitania (which may contribute to explaining the casualty rate of engineering and third class passengers) along with the approximate time it took for the Lusitania to sink (18 minutes, compared to the roughly 1.5 hours it took for the RMS Titanic to finally sink). "
   ]
  }
 ],
 "metadata": {
  "anaconda-cloud": {},
  "kernelspec": {
   "display_name": "Python [Root]",
   "language": "python",
   "name": "Python [Root]"
  },
  "language_info": {
   "codemirror_mode": {
    "name": "ipython",
    "version": 2
   },
   "file_extension": ".py",
   "mimetype": "text/x-python",
   "name": "python",
   "nbconvert_exporter": "python",
   "pygments_lexer": "ipython2",
   "version": "2.7.12"
  }
 },
 "nbformat": 4,
 "nbformat_minor": 0
}
