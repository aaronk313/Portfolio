{
 "cells": [
  {
   "cell_type": "markdown",
   "metadata": {},
   "source": [
    "# Alcohol Sales Report and Forecast\n",
    "## State of Iowa, 2015-2016\n",
    "\n"
   ]
  },
  {
   "cell_type": "markdown",
   "metadata": {},
   "source": [
    "__Introduction__\n",
    "---\n",
    "The State of Iowa is considering changes to tax rates for alcohol sales for the following legislative year. The State is asking for insight into sales trends in order to adjust tax rates and policies according to future revenue figures.\n",
    "\n",
    "__Question__\n",
    "---\n",
    "Can 2016 sales be forecasted in order to determine what the state's options are with regards to possible changes to the tax code for alcohol sales? Are there any factors that may influence forecasts? \n",
    "    "
   ]
  },
  {
   "cell_type": "markdown",
   "metadata": {},
   "source": [
    "__Assumptions and Shortcomings__\n",
    "---\n",
    "It is assumed that the data is accurate, reliable, and normal. \n",
    "\n",
    "There are likely possible outside factors that may influence actual sales trends outside of this study such as possible qualitative aspects of data points that cannot be quantified thus adding an exceptional degree of randomness/noise.\n"
   ]
  },
  {
   "cell_type": "markdown",
   "metadata": {},
   "source": [
    "__Data Breakdown__\n",
    "---\n",
    "\n",
    "The data consists of the report date, store number, city, zip code, county number and name, alcohol category and name, vendor number, item number and description and size (in both metric and imperial standards of measurement), the retailers cost and price, the number of bottles sold and total amount of the reported transation. \n",
    "\n",
    "Analysis of the data was approached from multiple angles starting with inspection of potential correlations between various feature sets in the data. Initial comparison of features suggests there may be a slight  correlation between sales volume and geographic location (county and store), vendor (not to be confused with the store/retailer), and bottle size (See Fig. 1 and 2 Below)\n",
    "\n",
    "![Image](./assets/featureheatmap.png)\n",
    "<center>*Figure 1*</center>\n",
    "\n",
    "![Image](./assets/featurecorrelation.png)\n",
    "<center>*Figure 2*</center>\n",
    "\n",
    "\n",
    "The model that provided the highest quality of reliability for any potential forecasting of future sales was dependent on the expected number of bottles sold and the product of retail cost versus category of alcohol being sold with an R<sup>2</sup> of 0.743 (Figure 3). This model was derived from sales data for Q1 of 2015 and tested similarly for Q2 ~ Q4 of 2015. \n",
    "\n",
    "![Image](./assets/testreliability.png)\n",
    "<center>*Figure 3*</center>\n",
    "\n",
    "\n",
    "Comparison of sales figures in the same Quarter year over year does not appear to be correlated between the two (Fig. 4), but the behavior between Q2 ~ Q4 of 2015 has shown that a gradual increase may be expected as the year progresses. \n",
    "\n",
    "![Image](./assets/q1comp-20152016.png)\n",
    "<center>*Figure 4*</center>"
   ]
  },
  {
   "cell_type": "markdown",
   "metadata": {},
   "source": [
    "__Conclusions__\n",
    "---\n",
    "\n",
    "The absence of any significant indicators of feature dependant forecastability can be interpreted in a few ways. Initial thoughts are: \n",
    "1. There may either be qualitiative factors of our data that may be influencing sales patterns.\n",
    "2. There may be quantitative factors not collected/present in this dataset that may show enough of a correlation to be able to contribute to a sales forecast.\n",
    "3. There may be no correlation between the features present in the dataset\n",
    "\n",
    "Despite the findings of the feature correspondence tests, other visualizations suggest that there is a soft limit on the average price consumers are willing to pay as observed in Fig. 5 and 6. If this soft limit is at its peak, changing tax policy that may drive up retail prices may impact tax revenue by having an adverse effect on overall alcohol sales.\n",
    "\n",
    "![Image](./assets/arc-bottles-2015.png)\n",
    "<center>*Figure 5*</center>\n",
    "\n",
    "![Image](./assets/avg-ticket.png)\n",
    "<center>*Figure 6*</center>\n",
    "\n"
   ]
  },
  {
   "cell_type": "markdown",
   "metadata": {},
   "source": [
    "__Final Notes__\n",
    "---\n"
   ]
  },
  {
   "cell_type": "markdown",
   "metadata": {},
   "source": [
    "There are some additional factors that may be considered in the future to help generate additional features that can be helpful in generating a forecast model. The data does not provide data regarding the retailers losses due to shrinkage or decrease in per-store revenue due to possible increased competition. Though increased competition may benefit the end retail consumer, the point at which decreased tax revenue per transaction can be offset by sales volume would be increased. \n",
    "\n",
    "The data also fails to take manufacturer incentives into consideration. Incentivized sales in the form of discounts or rebates may impact sales velocity that may not necessarily correspond with the same period year over year.\n",
    "\n",
    "Lastly, one external feature that may be helpful to consider is weather. However, due to the limits of ability to forecast longterm weather pattersn, this feature may only be useful for short-term forecasts. \n",
    "\n"
   ]
  },
  {
   "cell_type": "code",
   "execution_count": null,
   "metadata": {
    "collapsed": true
   },
   "outputs": [],
   "source": []
  }
 ],
 "metadata": {
  "anaconda-cloud": {},
  "kernelspec": {
   "display_name": "Python [Root]",
   "language": "python",
   "name": "Python [Root]"
  },
  "language_info": {
   "codemirror_mode": {
    "name": "ipython",
    "version": 2
   },
   "file_extension": ".py",
   "mimetype": "text/x-python",
   "name": "python",
   "nbconvert_exporter": "python",
   "pygments_lexer": "ipython2",
   "version": "2.7.12"
  }
 },
 "nbformat": 4,
 "nbformat_minor": 0
}
