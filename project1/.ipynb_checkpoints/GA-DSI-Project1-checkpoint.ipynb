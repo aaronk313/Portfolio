{
 "cells": [
  {
   "cell_type": "markdown",
   "metadata": {},
   "source": [
    "# Project 1\n",
    "\n",
    "## Step 1: Open the `sat_scores.csv` file. Investigate the data, and answer the questions below.\n"
   ]
  },
  {
   "cell_type": "markdown",
   "metadata": {},
   "source": [
    "##### 1. What does the data describe?"
   ]
  },
  {
   "cell_type": "markdown",
   "metadata": {},
   "source": [
    "The data describes the participation rate and mean SAT math and verbal scores by state."
   ]
  },
  {
   "cell_type": "markdown",
   "metadata": {},
   "source": [
    "##### 2. Does the data look complete? Are there any obvious issues with the observations?"
   ]
  },
  {
   "cell_type": "markdown",
   "metadata": {},
   "source": []
  },
  {
   "cell_type": "markdown",
   "metadata": {},
   "source": [
    "##### 3. Create a data dictionary for the dataset."
   ]
  },
  {
   "cell_type": "markdown",
   "metadata": {
    "collapsed": true
   },
   "source": [
    "{\n",
    "\"CT\":[82,509,510],\n",
    "\"NJ\":[81,499,513],\n",
    "\"MA\":[79,511,515],\n",
    "\"NY\":[77,495,505],\n",
    "\"NH\":[72,520,516],\n",
    "\"RI\":[71,501,499],\n",
    "\"PA\":[71,500,499],\n",
    "\"VT\":[69,511,506],\n",
    "\"ME\":[69,506,500],\n",
    "\"VA\":[68,510,501],\n",
    "\"DE\":[67,501,499],\n",
    "\"MD\":[65,508,510],\n",
    "\"NC\":[65,493,499],\n",
    "\"GA\":[63,491,489],\n",
    "\"IN\":[60,499,501],\n",
    "\"SC\":[57,486,488],\n",
    "\"DC\":[56,482,474],\n",
    "\"OR\":[55,526,526],\n",
    "\"FL\":[54,498,499],\n",
    "\"WA\":[53,527,527],\n",
    "\"TX\":[53,493,499],\n",
    "\"HI\":[52,485,515],\n",
    "\"AK\":[51,514,510],\n",
    "\"CA\":[51,498,517],\n",
    "\"AZ\":[34,523,525],\n",
    "\"NV\":[33,509,515],\n",
    "\"CO\":[31,539,542],\n",
    "\"OH\":[26,534,439],\n",
    "\"MT\":[23,539,539],\n",
    "\"WV\":[18,527,512],\n",
    "\"ID\":[17,543,542],\n",
    "\"TN\":[13,562,553],\n",
    "\"NM\":[13,551,542],\n",
    "\"IL\":[12,576,589],\n",
    "\"KY\":[12,550,550],\n",
    "\"WY\":[11,547,545],\n",
    "\"MI\":[11,561,572],\n",
    "\"MN\":[9,580,589],\n",
    "\"KS\":[9,577,580],\n",
    "\"AL\":[9,559,554],\n",
    "\"NE\":[8,562,568],\n",
    "\"OK\":[8,567,561],\n",
    "\"MO\":[8,577,577],\n",
    "\"LA\":[7,564,562],\n",
    "\"WI\":[6,584,596],\n",
    "\"AR\":[6,562,550],\n",
    "\"UT\":[5,575,570],\n",
    "\"IA\":[5,593,603],\n",
    "\"SD\":[4,577,582],\n",
    "\"ND\":[4,592,599],\n",
    "\"MS\":[4,566,551],\n",
    "\"All\":[45,506,514]\n",
    "}"
   ]
  },
  {
   "cell_type": "markdown",
   "metadata": {},
   "source": [
    "## Step 2: Load the data."
   ]
  },
  {
   "cell_type": "markdown",
   "metadata": {},
   "source": [
    "##### 4. Load the data into a list of lists"
   ]
  },
  {
   "cell_type": "code",
   "execution_count": 12,
   "metadata": {
    "collapsed": false
   },
   "outputs": [],
   "source": [
    "sat_scores = [\n",
    "[\"CT\",82,509,510],\n",
    "[\"NJ\",81,499,513],\n",
    "[\"MA\",79,511,515],\n",
    "[\"NY\",77,495,505],\n",
    "[\"NH\",72,520,516],\n",
    "[\"RI\",71,501,499],\n",
    "[\"PA\",71,500,499],\n",
    "[\"VT\",69,511,506],\n",
    "[\"ME\",69,506,500],\n",
    "[\"VA\",68,510,501],\n",
    "[\"DE\",67,501,499],\n",
    "[\"MD\",65,508,510],\n",
    "[\"NC\",65,493,499],\n",
    "[\"GA\",63,491,489],\n",
    "[\"IN\",60,499,501],\n",
    "[\"SC\",57,486,488],\n",
    "[\"DC\",56,482,474],\n",
    "[\"OR\",55,526,526],\n",
    "[\"FL\",54,498,499],\n",
    "[\"WA\",53,527,527],\n",
    "[\"TX\",53,493,499],\n",
    "[\"HI\",52,485,515],\n",
    "[\"AK\",51,514,510],\n",
    "[\"CA\",51,498,517],\n",
    "[\"AZ\",34,523,525],\n",
    "[\"NV\",33,509,515],\n",
    "[\"CO\",31,539,542],\n",
    "[\"OH\",26,534,439],\n",
    "[\"MT\",23,539,539],\n",
    "[\"WV\",18,527,512],\n",
    "[\"ID\",17,543,542],\n",
    "[\"TN\",13,562,553],\n",
    "[\"NM\",13,551,542],\n",
    "[\"IL\",12,576,589],\n",
    "[\"KY\",12,550,550],\n",
    "[\"WY\",11,547,545],\n",
    "[\"MI\",11,561,572],\n",
    "[\"MN\",9,580,589],\n",
    "[\"KS\",9,577,580],\n",
    "[\"AL\",9,559,554],\n",
    "[\"NE\",8,562,568],\n",
    "[\"OK\",8,567,561],\n",
    "[\"MO\",8,577,577],\n",
    "[\"LA\",7,564,562],\n",
    "[\"WI\",6,584,596],\n",
    "[\"AR\",6,562,550],\n",
    "[\"UT\",5,575,570],\n",
    "[\"IA\",5,593,603],\n",
    "[\"SD\",4,577,582],\n",
    "[\"ND\",4,592,599],\n",
    "[\"MS\",4,566,551],\n",
    "[\"All\",45,506,514]\n",
    "]"
   ]
  },
  {
   "cell_type": "markdown",
   "metadata": {},
   "source": [
    "##### 5. Print the data"
   ]
  },
  {
   "cell_type": "code",
   "execution_count": 13,
   "metadata": {
    "collapsed": false
   },
   "outputs": [
    {
     "name": "stdout",
     "output_type": "stream",
     "text": [
      "[['CT', 82, 509, 510], ['NJ', 81, 499, 513], ['MA', 79, 511, 515], ['NY', 77, 495, 505], ['NH', 72, 520, 516], ['RI', 71, 501, 499], ['PA', 71, 500, 499], ['VT', 69, 511, 506], ['ME', 69, 506, 500], ['VA', 68, 510, 501], ['DE', 67, 501, 499], ['MD', 65, 508, 510], ['NC', 65, 493, 499], ['GA', 63, 491, 489], ['IN', 60, 499, 501], ['SC', 57, 486, 488], ['DC', 56, 482, 474], ['OR', 55, 526, 526], ['FL', 54, 498, 499], ['WA', 53, 527, 527], ['TX', 53, 493, 499], ['HI', 52, 485, 515], ['AK', 51, 514, 510], ['CA', 51, 498, 517], ['AZ', 34, 523, 525], ['NV', 33, 509, 515], ['CO', 31, 539, 542], ['OH', 26, 534, 439], ['MT', 23, 539, 539], ['WV', 18, 527, 512], ['ID', 17, 543, 542], ['TN', 13, 562, 553], ['NM', 13, 551, 542], ['IL', 12, 576, 589], ['KY', 12, 550, 550], ['WY', 11, 547, 545], ['MI', 11, 561, 572], ['MN', 9, 580, 589], ['KS', 9, 577, 580], ['AL', 9, 559, 554], ['NE', 8, 562, 568], ['OK', 8, 567, 561], ['MO', 8, 577, 577], ['LA', 7, 564, 562], ['WI', 6, 584, 596], ['AR', 6, 562, 550], ['UT', 5, 575, 570], ['IA', 5, 593, 603], ['SD', 4, 577, 582], ['ND', 4, 592, 599], ['MS', 4, 566, 551], ['All', 45, 506, 514]]\n"
     ]
    }
   ],
   "source": [
    "print sat_scores"
   ]
  },
  {
   "cell_type": "markdown",
   "metadata": {
    "collapsed": true
   },
   "source": [
    "##### 6. Extract a list of the labels from the data, and remove them from the data."
   ]
  },
  {
   "cell_type": "code",
   "execution_count": 14,
   "metadata": {
    "collapsed": false
   },
   "outputs": [
    {
     "name": "stdout",
     "output_type": "stream",
     "text": [
      "[[82, 509, 510], [81, 499, 513], [79, 511, 515], [77, 495, 505], [72, 520, 516], [71, 501, 499], [71, 500, 499], [69, 511, 506], [69, 506, 500], [68, 510, 501], [67, 501, 499], [65, 508, 510], [65, 493, 499], [63, 491, 489], [60, 499, 501], [57, 486, 488], [56, 482, 474], [55, 526, 526], [54, 498, 499], [53, 527, 527], [53, 493, 499], [52, 485, 515], [51, 514, 510], [51, 498, 517], [34, 523, 525], [33, 509, 515], [31, 539, 542], [26, 534, 439], [23, 539, 539], [18, 527, 512], [17, 543, 542], [13, 562, 553], [13, 551, 542], [12, 576, 589], [12, 550, 550], [11, 547, 545], [11, 561, 572], [9, 580, 589], [9, 577, 580], [9, 559, 554], [8, 562, 568], [8, 567, 561], [8, 577, 577], [7, 564, 562], [6, 584, 596], [6, 562, 550], [5, 575, 570], [5, 593, 603], [4, 577, 582], [4, 592, 599], [4, 566, 551], [45, 506, 514]]\n"
     ]
    }
   ],
   "source": [
    "stateless_scores = list()\n",
    "\n",
    "for i in sat_scores:\n",
    "    stateless_scores.append(i[1:])"
   ]
  },
  {
   "cell_type": "markdown",
   "metadata": {},
   "source": [
    "##### 7. Create a list of State names extracted from the data. (Hint: use the list of labels to index on the State column)"
   ]
  },
  {
   "cell_type": "code",
   "execution_count": 15,
   "metadata": {
    "collapsed": false
   },
   "outputs": [],
   "source": [
    "states = list()\n",
    "\n",
    "for i in sat_scores:\n",
    "    states.append(i[0])"
   ]
  },
  {
   "cell_type": "markdown",
   "metadata": {},
   "source": [
    "##### 8. Print the types of each column"
   ]
  },
  {
   "cell_type": "code",
   "execution_count": null,
   "metadata": {
    "collapsed": false
   },
   "outputs": [],
   "source": []
  },
  {
   "cell_type": "markdown",
   "metadata": {},
   "source": [
    "##### 9. Do any types need to be reassigned? If so, go ahead and do it."
   ]
  },
  {
   "cell_type": "code",
   "execution_count": null,
   "metadata": {
    "collapsed": false
   },
   "outputs": [],
   "source": []
  },
  {
   "cell_type": "markdown",
   "metadata": {},
   "source": [
    "##### 10. Create a dictionary for each column mapping the State to its respective value for that column. "
   ]
  },
  {
   "cell_type": "code",
   "execution_count": null,
   "metadata": {
    "collapsed": true
   },
   "outputs": [],
   "source": []
  },
  {
   "cell_type": "markdown",
   "metadata": {},
   "source": [
    "##### 11. Create a dictionary with the values for each of the numeric columns"
   ]
  },
  {
   "cell_type": "code",
   "execution_count": null,
   "metadata": {
    "collapsed": false
   },
   "outputs": [],
   "source": []
  },
  {
   "cell_type": "markdown",
   "metadata": {},
   "source": [
    "## Step 3: Describe the data"
   ]
  },
  {
   "cell_type": "markdown",
   "metadata": {},
   "source": [
    "##### 12. Print the min and max of each column"
   ]
  },
  {
   "cell_type": "code",
   "execution_count": null,
   "metadata": {
    "collapsed": false
   },
   "outputs": [],
   "source": []
  },
  {
   "cell_type": "markdown",
   "metadata": {},
   "source": [
    "##### 13. Write a function using only list comprehensions, no loops, to compute Standard Deviation. Print the Standard Deviation of each numeric column."
   ]
  },
  {
   "cell_type": "code",
   "execution_count": null,
   "metadata": {
    "collapsed": false
   },
   "outputs": [],
   "source": []
  },
  {
   "cell_type": "markdown",
   "metadata": {},
   "source": [
    "## Step 4: Visualize the data"
   ]
  },
  {
   "cell_type": "markdown",
   "metadata": {
    "collapsed": true
   },
   "source": [
    "##### 14. Using MatPlotLib and PyPlot, plot the distribution of the Rate using histograms."
   ]
  },
  {
   "cell_type": "code",
   "execution_count": null,
   "metadata": {
    "collapsed": false
   },
   "outputs": [],
   "source": []
  },
  {
   "cell_type": "markdown",
   "metadata": {},
   "source": [
    "##### 15. Plot the Math distribution"
   ]
  },
  {
   "cell_type": "code",
   "execution_count": null,
   "metadata": {
    "collapsed": false
   },
   "outputs": [],
   "source": []
  },
  {
   "cell_type": "markdown",
   "metadata": {},
   "source": [
    "##### 16. Plot the Verbal distribution"
   ]
  },
  {
   "cell_type": "code",
   "execution_count": null,
   "metadata": {
    "collapsed": false
   },
   "outputs": [],
   "source": []
  },
  {
   "cell_type": "markdown",
   "metadata": {},
   "source": [
    "##### 17. What is the typical assumption for data distribution?"
   ]
  },
  {
   "cell_type": "code",
   "execution_count": null,
   "metadata": {
    "collapsed": false
   },
   "outputs": [],
   "source": []
  },
  {
   "cell_type": "markdown",
   "metadata": {},
   "source": [
    "##### 18. Does that distribution hold true for our data?"
   ]
  },
  {
   "cell_type": "code",
   "execution_count": null,
   "metadata": {
    "collapsed": false
   },
   "outputs": [],
   "source": []
  },
  {
   "cell_type": "markdown",
   "metadata": {},
   "source": [
    "##### 19. Plot some scatterplots. **BONUS**: Use a PyPlot `figure` to present multiple plots at once."
   ]
  },
  {
   "cell_type": "code",
   "execution_count": null,
   "metadata": {
    "collapsed": false
   },
   "outputs": [],
   "source": []
  },
  {
   "cell_type": "markdown",
   "metadata": {},
   "source": [
    "##### 20. Are there any interesting relationships to note?"
   ]
  },
  {
   "cell_type": "code",
   "execution_count": null,
   "metadata": {
    "collapsed": false
   },
   "outputs": [],
   "source": []
  },
  {
   "cell_type": "markdown",
   "metadata": {},
   "source": [
    "##### 21. Create box plots for each variable. "
   ]
  },
  {
   "cell_type": "code",
   "execution_count": null,
   "metadata": {
    "collapsed": false
   },
   "outputs": [],
   "source": []
  },
  {
   "cell_type": "markdown",
   "metadata": {},
   "source": [
    "##### BONUS: Using Tableau, create a heat map for each variable using a map of the US. "
   ]
  },
  {
   "cell_type": "code",
   "execution_count": null,
   "metadata": {
    "collapsed": true
   },
   "outputs": [],
   "source": []
  }
 ],
 "metadata": {
  "anaconda-cloud": {},
  "kernelspec": {
   "display_name": "Python [Root]",
   "language": "python",
   "name": "Python [Root]"
  },
  "language_info": {
   "codemirror_mode": {
    "name": "ipython",
    "version": 2
   },
   "file_extension": ".py",
   "mimetype": "text/x-python",
   "name": "python",
   "nbconvert_exporter": "python",
   "pygments_lexer": "ipython2",
   "version": "2.7.12"
  }
 },
 "nbformat": 4,
 "nbformat_minor": 0
}
